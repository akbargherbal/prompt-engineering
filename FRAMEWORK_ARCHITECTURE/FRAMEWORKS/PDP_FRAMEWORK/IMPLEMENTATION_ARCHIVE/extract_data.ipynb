{
 "cells": [
  {
   "cell_type": "code",
   "execution_count": 1,
   "id": "cfffd9ed",
   "metadata": {},
   "outputs": [],
   "source": [
    "import pandas as pd\n",
    "import regex as re\n",
    "import os"
   ]
  },
  {
   "cell_type": "code",
   "execution_count": 2,
   "id": "f876d742",
   "metadata": {},
   "outputs": [],
   "source": [
    "import json"
   ]
  },
  {
   "cell_type": "code",
   "execution_count": 4,
   "id": "70fb504c",
   "metadata": {},
   "outputs": [],
   "source": [
    "list_json = []\n",
    "for root, dirs, files in os.walk('.'):\n",
    "    for file in files:\n",
    "        if file.startswith('GEMINI_FUSION_SESSION_'):\n",
    "            list_json.append(os.path.join(root, file).replace(os.sep, '/'))"
   ]
  },
  {
   "cell_type": "code",
   "execution_count": 10,
   "id": "fcaac8d0",
   "metadata": {},
   "outputs": [],
   "source": [
    "def extract_chat(file_path):\n",
    "    with open(file_path, encoding='utf-8') as f:\n",
    "        some_text = f.read()\n",
    "    data = json.loads(some_text)\n",
    "    data = data['chunkedPrompt']\n",
    "    return data\n",
    "\n",
    "df = pd.DataFrame(list_json).rename(columns={0: 'FILE_PATH'})\n",
    "df = df.sort_values(['FILE_PATH'])\n",
    "df['SESSION_NAME'] = df['FILE_PATH'].apply(lambda x: x.split('_')[-1])\n",
    "df['CHAT'] = df['FILE_PATH'].apply(extract_chat)\n",
    "\n",
    "list_chats = list(zip(\n",
    "    df['SESSION_NAME'], df['CHAT']\n",
    "))\n",
    "\n",
    "\n",
    "with open('./First_Four_Sessions.json', mode='w', encoding='utf-8') as f:\n",
    "    json.dump(list_chats, f, ensure_ascii=False, indent=4)\n",
    "\n"
   ]
  },
  {
   "cell_type": "code",
   "execution_count": null,
   "id": "519e850c",
   "metadata": {},
   "outputs": [],
   "source": []
  }
 ],
 "metadata": {
  "kernelspec": {
   "display_name": "Python 3",
   "language": "python",
   "name": "python3"
  },
  "language_info": {
   "codemirror_mode": {
    "name": "ipython",
    "version": 3
   },
   "file_extension": ".py",
   "mimetype": "text/x-python",
   "name": "python",
   "nbconvert_exporter": "python",
   "pygments_lexer": "ipython3",
   "version": "3.12.2"
  }
 },
 "nbformat": 4,
 "nbformat_minor": 5
}
