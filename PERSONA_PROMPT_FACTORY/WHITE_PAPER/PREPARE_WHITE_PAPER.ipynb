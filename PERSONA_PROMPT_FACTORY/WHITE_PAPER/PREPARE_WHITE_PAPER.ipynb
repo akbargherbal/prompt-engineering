{
 "cells": [
  {
   "cell_type": "code",
   "execution_count": 1,
   "id": "90c79728",
   "metadata": {},
   "outputs": [],
   "source": [
    "import pandas as pd\n",
    "import regex as re\n",
    "import os\n",
    "import json"
   ]
  },
  {
   "cell_type": "code",
   "execution_count": null,
   "id": "7b631cc3",
   "metadata": {},
   "outputs": [
    {
     "data": {
      "text/plain": [
       "['APPENDIX_A_PLACEHOLDER', 'APPENDIX_B_PLACEHOLDER', 'APPENDIX_C_PLACEHOLDER']"
      ]
     },
     "execution_count": 3,
     "metadata": {},
     "output_type": "execute_result"
    }
   ],
   "source": [
    "from pathlib import Path\n",
    "with open('./white_paper.md', encoding='utf-8') as f:\n",
    "    white_paper = f.read()\n",
    "\n",
    "\n",
    "# find placeholders;\n",
    "\n",
    "re.findall('APPENDIX_.*?_PLACEHOLDER', white_paper)\n",
    "\n",
    "list_appendix_placeholders = ['APPENDIX_A_PLACEHOLDER', 'APPENDIX_B_PLACEHOLDER', 'APPENDIX_C_PLACEHOLDER']\n",
    "\n",
    "app_a = Path('./APPENDIX_A')\n",
    "app_b = Path('./APPENDIX_B')\n",
    "app_c = Path('./APPENDIX_C')\n",
    "\n",
    "\n",
    "def fomrat_text_as(path, ext='markdown'):\n",
    "    with open(path, encoding='utf-8') as f:\n",
    "        text = f.read()\n",
    "    \n",
    "    output = f'''\n",
    "```{ext}\n",
    "{text}    \n",
    "'''.strip()\n",
    "    return output\n",
    "\n",
    "\n",
    "# concatenate content of each appendix; \n",
    "# ___START_OF_{file_name1}___\n",
    "# content of file 1\n",
    "# ___START_OF_{file_name1}___\n",
    "# ___START_OF_{file_name2}___\n",
    "# content of file 2\n",
    "# ___START_OF_{file_name2}___\n",
    "\n",
    "\n",
    "\n",
    "\n"
   ]
  },
  {
   "cell_type": "code",
   "execution_count": null,
   "id": "89419e65",
   "metadata": {},
   "outputs": [],
   "source": [
    "from pathlib import Path\n",
    "with open('./white_paper.md', encoding='utf-8') as f:\n",
    "    white_paper = f.read()\n",
    "\n",
    "\n",
    "# find placeholders;\n",
    "\n",
    "re.findall('APPENDIX_.*?_PLACEHOLDER', white_paper)\n",
    "\n",
    "list_appendix_placeholders = ['APPENDIX_A_PLACEHOLDER', 'APPENDIX_B_PLACEHOLDER', 'APPENDIX_C_PLACEHOLDER']\n",
    "\n",
    "app_a = Path('./APPENDIX_A')\n",
    "app_b = Path('./APPENDIX_B')\n",
    "app_c = Path('./APPENDIX_C')\n",
    "\n",
    "\n",
    "def fomrat_text_as(path, ext='markdown'):\n",
    "    with open(path, encoding='utf-8') as f:\n",
    "        text = f.read()\n",
    "    \n",
    "    output = f'''\n",
    "```{ext}\n",
    "{text}    \n",
    "'''.strip()\n",
    "    return output\n",
    "\n",
    "\n",
    "# concatenate content of each appendix; \n",
    "# ___START_OF_{file_name1}___\n",
    "# content of file 1\n",
    "# ___START_OF_{file_name1}___\n",
    "# ___START_OF_{file_name2}___\n",
    "# content of file 2\n",
    "# ___START_OF_{file_name2}___\n",
    "\n",
    "\n",
    "\n",
    "\n"
   ]
  }
 ],
 "metadata": {
  "kernelspec": {
   "display_name": "Python 3",
   "language": "python",
   "name": "python3"
  },
  "language_info": {
   "codemirror_mode": {
    "name": "ipython",
    "version": 3
   },
   "file_extension": ".py",
   "mimetype": "text/x-python",
   "name": "python",
   "nbconvert_exporter": "python",
   "pygments_lexer": "ipython3",
   "version": "3.12.2"
  }
 },
 "nbformat": 4,
 "nbformat_minor": 5
}
