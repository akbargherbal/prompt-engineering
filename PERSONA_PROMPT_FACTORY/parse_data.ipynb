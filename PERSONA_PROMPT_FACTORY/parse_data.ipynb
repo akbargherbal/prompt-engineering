{
 "cells": [
  {
   "cell_type": "code",
   "execution_count": 1,
   "id": "a8f494bb",
   "metadata": {},
   "outputs": [],
   "source": [
    "import pandas as pd\n",
    "import regex as re\n",
    "import os\n",
    "import json"
   ]
  },
  {
   "cell_type": "code",
   "execution_count": 4,
   "id": "a3f1b0c5",
   "metadata": {},
   "outputs": [
    {
     "name": "stdout",
     "output_type": "stream",
     "text": [
      "dict_keys(['runSettings', 'systemInstruction', 'chunkedPrompt'])\n"
     ]
    }
   ],
   "source": [
    "with open('./success_story/PROMPT_FACTORY_02_PRK_RECOVERY', encoding='utf-8') as f:\n",
    "    json_text = f.read()\n",
    "    json_data = json.loads(json_text)\n",
    "    print(json_data.keys())\n",
    "    data = json_data['chunkedPrompt']\n",
    "\n",
    "with open('./success_story.json', mode='w', encoding='utf-8') as f:\n",
    "    json.dump(data, f, ensure_ascii=False, indent=4)\n"
   ]
  },
  {
   "cell_type": "code",
   "execution_count": null,
   "id": "9dc92a2c",
   "metadata": {},
   "outputs": [],
   "source": []
  }
 ],
 "metadata": {
  "kernelspec": {
   "display_name": "Python 3",
   "language": "python",
   "name": "python3"
  },
  "language_info": {
   "codemirror_mode": {
    "name": "ipython",
    "version": 3
   },
   "file_extension": ".py",
   "mimetype": "text/x-python",
   "name": "python",
   "nbconvert_exporter": "python",
   "pygments_lexer": "ipython3",
   "version": "3.12.2"
  }
 },
 "nbformat": 4,
 "nbformat_minor": 5
}
