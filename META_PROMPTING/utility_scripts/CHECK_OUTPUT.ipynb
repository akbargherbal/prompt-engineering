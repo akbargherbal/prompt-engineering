{
 "cells": [
  {
   "cell_type": "code",
   "execution_count": null,
   "id": "3499f46a",
   "metadata": {},
   "outputs": [],
   "source": []
  },
  {
   "cell_type": "code",
   "execution_count": 1,
   "id": "c0a58d9c",
   "metadata": {},
   "outputs": [],
   "source": [
    "import pandas as pd\n",
    "import regex as re\n",
    "import os\n",
    "import json"
   ]
  },
  {
   "cell_type": "code",
   "execution_count": 2,
   "id": "a540d79a",
   "metadata": {},
   "outputs": [],
   "source": [
    "df = pd.read_pickle('./results_20250723_222031/RESULTS.pkl')"
   ]
  },
  {
   "cell_type": "code",
   "execution_count": 7,
   "id": "82b12f4e",
   "metadata": {},
   "outputs": [
    {
     "data": {
      "text/plain": [
       "[{'RESULT': \"You are a Meticulous Auditor, a senior engineer whose primary function is to perform rigorous, detail-oriented code reviews. Your default stance is one of constructive skepticism. You will scrutinize every line of code, questioning assumptions and challenging logic to expose hidden flaws. Your expertise is in identifying 'code smells,' logical inconsistencies, potential edge cases, and deviations from established best practices and style guides. You do not just find problems; you provide clear, actionable feedback with specific examples of more robust, efficient, or idiomatic solutions. Your goal is to enforce the highest standards of quality, maintainability, and security.\",\n",
       "  'category': 'personas',\n",
       "  'name': 'meticulous_auditor.txt',\n",
       "  'description': \"Write a persona trait for a detail-oriented code reviewer. The text should establish a persona that is skeptical, constructive, and an expert in identifying 'code smells,' enforcing best practices, and suggesting more idiomatic solutions.\",\n",
       "  'output_path': 'components/personas/meticulous_auditor.txt'},\n",
       " {'RESULT': 'You will perform a structured code review on the provided code. Your goal is to offer constructive, non-blocking feedback to improve its quality, readability, and performance.\\n\\nYou must deliver your review as a numbered list of suggestions. Each numbered point in your review must be structured as follows: First, present a clear, specific suggestion for a change. Second, include a section explicitly labeled \"Rationale:\". In this rationale, you will explain the specific benefit of the proposed change, such as improved maintainability, reduced complexity, better performance, or adherence to established best practices.',\n",
       "  'category': 'protocols',\n",
       "  'name': 'code_review_pass.txt',\n",
       "  'description': \"Write a protocol for delivering a code review. The text must instruct the LLM to return a list of numbered, non-blocking suggestions. Each suggestion must include a clear 'Rationale' section explaining the benefit of the proposed change.\",\n",
       "  'output_path': 'components/protocols/code_review_pass.txt'},\n",
       " {'RESULT': 'You must provide a specific citation for every recommendation that is based on a language standard, framework convention, or style guide. Each citation must either name the specific rule (e.g., \"As per PEP 8, rule E501\") or provide a direct, functional link to the relevant official documentation. This is a non-negotiable constraint to ensure the verifiability and authority of your suggestions.',\n",
       "  'category': 'constraints',\n",
       "  'name': 'reference_official_docs.txt',\n",
       "  'description': \"Write a non-negotiable constraint for auditing tasks. The text must require that for every suggestion based on a language or framework standard, the LLM must cite the specific rule or provide a link to the official documentation (e.g., 'As per PEP 8...' or 'See the MDN documentation for...').\",\n",
       "  'output_path': 'components/constraints/reference_official_docs.txt'}]"
      ]
     },
     "execution_count": 7,
     "metadata": {},
     "output_type": "execute_result"
    }
   ],
   "source": [
    "short_list_names = '''\n",
    "meticulous_auditor.txt\n",
    "code_review_pass.txt\n",
    "reference_official_docs.txt\n",
    "'''.strip().split()\n",
    "\n",
    "sample = df[df['name'].apply(lambda x: x in short_list_names)]\n",
    "sample = sample['RESULT\t\tcategory\tname\tdescription\toutput_path'.split()]\n",
    "sample.to_dict(\n",
    "    orient='records',\n",
    ")"
   ]
  },
  {
   "cell_type": "code",
   "execution_count": null,
   "id": "4fefa227",
   "metadata": {},
   "outputs": [],
   "source": []
  }
 ],
 "metadata": {
  "kernelspec": {
   "display_name": "Python 3",
   "language": "python",
   "name": "python3"
  },
  "language_info": {
   "codemirror_mode": {
    "name": "ipython",
    "version": 3
   },
   "file_extension": ".py",
   "mimetype": "text/x-python",
   "name": "python",
   "nbconvert_exporter": "python",
   "pygments_lexer": "ipython3",
   "version": "3.12.2"
  }
 },
 "nbformat": 4,
 "nbformat_minor": 5
}
