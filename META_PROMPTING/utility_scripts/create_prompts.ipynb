{
 "cells": [
  {
   "cell_type": "code",
   "execution_count": null,
   "id": "2bc5cb73",
   "metadata": {},
   "outputs": [],
   "source": []
  },
  {
   "cell_type": "code",
   "execution_count": 1,
   "id": "da5d092f",
   "metadata": {},
   "outputs": [],
   "source": [
    "import pandas as pd\n",
    "import regex as re\n",
    "import os"
   ]
  },
  {
   "cell_type": "code",
   "execution_count": 2,
   "id": "2ea45f2e",
   "metadata": {},
   "outputs": [],
   "source": [
    "import json"
   ]
  },
  {
   "cell_type": "code",
   "execution_count": 3,
   "id": "976ab047",
   "metadata": {},
   "outputs": [],
   "source": [
    "df = pd.read_json('../docs/generation_jobs.json')"
   ]
  },
  {
   "cell_type": "code",
   "execution_count": 4,
   "id": "4c3c1797",
   "metadata": {},
   "outputs": [],
   "source": [
    "df['jobs'].iloc[0]\n",
    "\n",
    "df['category'] = df['jobs'].apply(lambda x: x['category'])\n",
    "df['name'] = df['jobs'].apply(lambda x: x['name'])\n",
    "df['description'] = df['jobs'].apply(lambda x: x['description'])\n",
    "df['output_path'] = df['jobs'].apply(lambda x: x['output_path'])\n",
    "\n",
    "\n",
    "\n",
    "CATEGORY_PLACEHOLDER = 'CATEGORY_PLACEHOLDER'\n",
    "COMPONENT_NAME_PLACEHOLDER = 'COMPONENT_NAME_PLACEHOLDER'\n",
    "DESCRIPTION_PLACEHOLDER = 'DESCRIPTION_PLACEHOLDER'\n",
    "\n",
    "\n",
    "with open('../docs/PROMPT_SNIPPET_GENERATOR.md', encoding='utf-8') as f:\n",
    "    prompt_template = f.read()\n",
    "\n",
    "# assert existence of those placeholders in prompt template:\n",
    "assert CATEGORY_PLACEHOLDER in prompt_template, \"CATEGORY_PLACEHOLDER not found in prompt template\"\n",
    "assert COMPONENT_NAME_PLACEHOLDER in prompt_template, \"COMPONENT_NAME_PLACEHOLDER not found in prompt template\"\n",
    "assert DESCRIPTION_PLACEHOLDER in prompt_template, \"DESCRIPTION_PLACEHOLDER not found in prompt template\"\n",
    "\n",
    "\n",
    "def create_prompt(category, name, description, prompt_template=prompt_template):\n",
    "    \"\"\"\n",
    "    Create a prompt for the given category, name, and description using the provided template.\n",
    "    \"\"\"\n",
    "    prompt = prompt_template\n",
    "    prompt = prompt.replace(CATEGORY_PLACEHOLDER, category)\n",
    "    prompt = prompt.replace(COMPONENT_NAME_PLACEHOLDER, name)\n",
    "    prompt = prompt.replace(DESCRIPTION_PLACEHOLDER, description)\n",
    "    \n",
    "    return prompt\n",
    "\n",
    "df['PROMPT'] = df.apply(lambda x: create_prompt(\n",
    "    x['category'], \n",
    "    x['name'], \n",
    "    x['description']\n",
    "), axis=1)\n",
    "\n",
    "# print(df['PROMPT'].iloc[0])\n",
    "\n",
    "df['PROMPT_ID'] = df.index + 1 \n",
    "df['PROMPT_ID'] = df['PROMPT_ID'].apply(lambda x: str(x).zfill(3))\n",
    "# df\n"
   ]
  },
  {
   "cell_type": "code",
   "execution_count": 5,
   "id": "3ac9691e",
   "metadata": {},
   "outputs": [],
   "source": [
    "# df.to_pickle('./INPUT_PROMPTS.pkl', protocol=4)"
   ]
  },
  {
   "cell_type": "code",
   "execution_count": 6,
   "id": "fa48f1f2",
   "metadata": {},
   "outputs": [],
   "source": [
    "output_df = pd.read_pickle('./results_20250723_220303/RESULTS.pkl')"
   ]
  },
  {
   "cell_type": "code",
   "execution_count": 7,
   "id": "ffa77afb",
   "metadata": {},
   "outputs": [],
   "source": [
    "# convert output_df to json;\n",
    "\n",
    "output_json = output_df['\tPROMPT_ID\tRESULT\t\tcategory\tname\tdescription\toutput_path\tPROMPT'.split()].to_json(\n",
    "    './example_components.json',orient='records', force_ascii=False)"
   ]
  },
  {
   "cell_type": "code",
   "execution_count": null,
   "id": "5bf9b74b",
   "metadata": {},
   "outputs": [],
   "source": []
  }
 ],
 "metadata": {
  "kernelspec": {
   "display_name": "Python 3",
   "language": "python",
   "name": "python3"
  },
  "language_info": {
   "codemirror_mode": {
    "name": "ipython",
    "version": 3
   },
   "file_extension": ".py",
   "mimetype": "text/x-python",
   "name": "python",
   "nbconvert_exporter": "python",
   "pygments_lexer": "ipython3",
   "version": "3.12.2"
  }
 },
 "nbformat": 4,
 "nbformat_minor": 5
}
